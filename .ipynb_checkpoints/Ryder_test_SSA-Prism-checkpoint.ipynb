{
 "cells": [
  {
   "cell_type": "code",
   "execution_count": 1,
   "id": "d31a2681-d0f5-4cea-9575-0f7fbe9da97a",
   "metadata": {},
   "outputs": [
    {
     "name": "stdout",
     "output_type": "stream",
     "text": [
      "# conda environments:\n",
      "#\n",
      "NewEnv                   /home/achartra/.conda/envs/NewEnv\n",
      "PINNICLEenv           *  /home/achartra/.conda/envs/PINNICLEenv\n",
      "allison                  /home/achartra/.conda/envs/allison\n",
      "baseclone                /home/achartra/.conda/envs/baseclone\n",
      "base                     /panfs/ccds02/app/modules/anaconda/platform/x86_64/rhel/8.6/3-2022.05\n",
      "earthml                  /panfs/ccds02/app/modules/anaconda/platform/x86_64/rhel/8.6/3-2022.05/envs/earthml\n",
      "esmvaltool               /panfs/ccds02/app/modules/anaconda/platform/x86_64/rhel/8.6/3-2022.05/envs/esmvaltool\n",
      "gdalNgmt                 /panfs/ccds02/app/modules/anaconda/platform/x86_64/rhel/8.6/3-2022.05/envs/gdalNgmt\n",
      "ilab-pytorch             /panfs/ccds02/app/modules/anaconda/platform/x86_64/rhel/8.6/3-2022.05/envs/ilab-pytorch\n",
      "ilab-tensorflow          /panfs/ccds02/app/modules/anaconda/platform/x86_64/rhel/8.6/3-2022.05/envs/ilab-tensorflow\n",
      "ml                       /panfs/ccds02/app/modules/anaconda/platform/x86_64/rhel/8.6/3-2022.05/envs/ml\n",
      "nco_ncl                  /panfs/ccds02/app/modules/anaconda/platform/x86_64/rhel/8.6/3-2022.05/envs/nco_ncl\n",
      "qgis                     /panfs/ccds02/app/modules/anaconda/platform/x86_64/rhel/8.6/3-2022.05/envs/qgis\n",
      "r-environment            /panfs/ccds02/app/modules/anaconda/platform/x86_64/rhel/8.6/3-2022.05/envs/r-environment\n",
      "r-environment_new        /panfs/ccds02/app/modules/anaconda/platform/x86_64/rhel/8.6/3-2022.05/envs/r-environment_new\n",
      "\n",
      "\n",
      "Note: you may need to restart the kernel to use updated packages.\n"
     ]
    }
   ],
   "source": [
    "conda env list"
   ]
  },
  {
   "cell_type": "code",
   "execution_count": 1,
   "id": "41567290-8e0e-4a14-b229-c448c05dddee",
   "metadata": {},
   "outputs": [
    {
     "name": "stderr",
     "output_type": "stream",
     "text": [
      "2024-12-20 09:32:44.084065: I tensorflow/core/util/port.cc:153] oneDNN custom operations are on. You may see slightly different numerical results due to floating-point round-off errors from different computation orders. To turn them off, set the environment variable `TF_ENABLE_ONEDNN_OPTS=0`.\n",
      "2024-12-20 09:32:45.516221: E external/local_xla/xla/stream_executor/cuda/cuda_fft.cc:477] Unable to register cuFFT factory: Attempting to register factory for plugin cuFFT when one has already been registered\n",
      "WARNING: All log messages before absl::InitializeLog() is called are written to STDERR\n",
      "E0000 00:00:1734705165.771418  993479 cuda_dnn.cc:8310] Unable to register cuDNN factory: Attempting to register factory for plugin cuDNN when one has already been registered\n",
      "E0000 00:00:1734705165.846337  993479 cuda_blas.cc:1418] Unable to register cuBLAS factory: Attempting to register factory for plugin cuBLAS when one has already been registered\n",
      "2024-12-20 09:32:46.826234: I tensorflow/core/platform/cpu_feature_guard.cc:210] This TensorFlow binary is optimized to use available CPU instructions in performance-critical operations.\n",
      "To enable the following instructions: AVX2 AVX512F AVX512_VNNI FMA, in other operations, rebuild TensorFlow with the appropriate compiler flags.\n"
     ]
    },
    {
     "name": "stdout",
     "output_type": "stream",
     "text": [
      "Num GPUs Available:  1\n"
     ]
    }
   ],
   "source": [
    "import tensorflow as tf\n",
    "print(\"Num GPUs Available: \", len(tf.config.list_physical_devices('GPU')))\n"
   ]
  },
  {
   "cell_type": "code",
   "execution_count": 2,
   "id": "3d5c5bd7-a608-40a5-9d07-a7b2b4e82b87",
   "metadata": {},
   "outputs": [
    {
     "name": "stderr",
     "output_type": "stream",
     "text": [
      "Using backend: tensorflow\n",
      "Other supported backends: tensorflow.compat.v1, pytorch, jax, paddle.\n",
      "paddle supports more examples now and is recommended.\n",
      "Disable just-in-time compilation with XLA.\n"
     ]
    },
    {
     "name": "stdout",
     "output_type": "stream",
     "text": [
      "Set the default float type to float64\n"
     ]
    }
   ],
   "source": [
    "# Testing PINNICLE\n",
    "# Infer basal friction coefficients using SSA\n",
    "\n",
    "import pinnicle as pinn\n",
    "import numpy as np\n",
    "import deepxde as dde\n",
    "import matplotlib.pyplot as plt\n",
    "from datetime import datetime\n",
    "\n",
    "# Set up some configurations\n",
    "dde.config.set_default_float('float64')\n",
    "dde.config.disable_xla_jit()\n",
    "dde.config.set_random_seed(1234)\n"
   ]
  },
  {
   "cell_type": "code",
   "execution_count": 2,
   "id": "b5a1b2f5-bb3f-452b-8edb-4e5659392461",
   "metadata": {},
   "outputs": [
    {
     "name": "stderr",
     "output_type": "stream",
     "text": [
      "ERROR:root:ERROR: MATLAB type not supported: qmustatistics, (uint32)\n",
      "ERROR:root:ERROR: MATLAB type not supported: lovenumbers, (uint32)\n",
      "ERROR:root:ERROR: MATLAB type not supported: rotational, (uint32)\n",
      "ERROR:root:ERROR: MATLAB type not supported: solidearthsettings, (uint32)\n"
     ]
    },
    {
     "name": "stdout",
     "output_type": "stream",
     "text": [
      "add Fourier feature transform to input transform\n",
      "add output transform with [-3.1709792e-04 -3.1709792e-04 -1.0000000e+03  1.0000000e+01\n",
      "  1.0000000e-02  7.0000000e+07] and [3.1709792e-04 3.1709792e-04 3.6000000e+03 3.5000000e+03 1.0000000e+04\n",
      " 7.0000000e+08]\n",
      "Parameters: \n",
      "\tTrainingParameter: \n",
      "\t\tepochs:\t50000\n",
      "\t\toptimizer:\tadam\n",
      "\t\tloss_functions:\t['MSE', 'MSE', 'MSE', 'MSE', 'MSE', 'MSE', 'MSE', 'MSE']\n",
      "\t\tadditional_loss:\t{}\n",
      "\t\tlearning_rate:\t0.0005\n",
      "\t\tloss_weights:\t[1e-10, 1e-10, 99451929600.0, 99451929600.0, 5e-06, 5e-06, 5e-08, 1e-16]\n",
      "\t\thas_callbacks:\tFalse\n",
      "\t\tmin_delta:\tNone\n",
      "\t\tpatience:\tNone\n",
      "\t\tperiod:\tNone\n",
      "\t\tcheckpoint:\tFalse\n",
      "\t\tsave_path:\t./PINNs/Ryder_test_I19-Dec-2024_3_P20-Dec-24_2\n",
      "\t\tis_save:\tTrue\n",
      "\t\tis_plot:\tTrue\n",
      "\tDomainParameter: \n",
      "\t\tshapefile:\t./Ryder_32_09.exp\n",
      "\t\tnum_collocation_points:\t20000\n",
      "\t\ttime_dependent:\tFalse\n",
      "\t\tstart_time:\t0\n",
      "\t\tend_time:\t0\n",
      "\tDataParameter: \n",
      "\t\tISSM:\n",
      "\t\t\tdata_path:\t./Models/Ryder_test_I19-Dec-2024_3.mat\n",
      "\t\t\tdata_size:\t{'u': 10000, 'v': 10000, 's': 10000, 'H': None, 'C': 10000, 'B': 10000}\n",
      "\t\t\tname_map:\t{'u': 'u', 'v': 'v', 's': 's', 'H': 'H', 'C': 'C', 'B': 'B'}\n",
      "\t\t\tX_map:\t{'x': 'x', 'y': 'y', 't': 't'}\n",
      "\t\t\tsource:\tISSM\n",
      "\t\t\tdefault_time:\tNone\n",
      "\n",
      "\t\tft:\n",
      "\t\t\tdata_path:\t./Ryder_xyz_ds.mat\n",
      "\t\t\tdata_size:\t{'H': 20000}\n",
      "\t\t\tname_map:\t{'H': 'thickness'}\n",
      "\t\t\tX_map:\t{'x': 'x', 'y': 'y'}\n",
      "\t\t\tsource:\tmat\n",
      "\t\t\tdefault_time:\tNone\n",
      "\n",
      "\tNNParameter: \n",
      "\t\tinput_variables:\t['x', 'y']\n",
      "\t\toutput_variables:\t['u', 'v', 's', 'H', 'C', 'B']\n",
      "\t\tnum_neurons:\t20\n",
      "\t\tnum_layers:\t6\n",
      "\t\tactivation:\ttanh\n",
      "\t\tinitializer:\tGlorot uniform\n",
      "\t\tfft:\tTrue\n",
      "\t\tnum_fourier_feature:\t30\n",
      "\t\tsigma:\t5\n",
      "\t\tB:\tNone\n",
      "\t\tis_parallel:\tFalse\n",
      "\t\tinput_lb:\t[ -128000. -1134000.]\n",
      "\t\tinput_ub:\t[  22000. -984000.]\n",
      "\t\toutput_lb:\t[-3.1709792e-04 -3.1709792e-04 -1.0000000e+03  1.0000000e+01\n",
      "  1.0000000e-02  7.0000000e+07]\n",
      "\t\toutput_ub:\t[3.1709792e-04 3.1709792e-04 3.6000000e+03 3.5000000e+03 1.0000000e+04\n",
      " 7.0000000e+08]\n",
      "\t\tinput_size:\t2\n",
      "\t\toutput_size:\t6\n",
      "\tPhysicsParameter: \n",
      "\t\tSSA_VB:\n",
      "\t\t\trhoi:\t917.0\n",
      "\t\t\trhow:\t1023.0\n",
      "\t\t\tg:\t9.81\n",
      "\t\t\tyts:\t31536000.0\n",
      "\t\t\tvariable_lb:\t{'u': -0.00031709791983764585, 'v': -0.00031709791983764585, 's': -1000.0, 'H': 10.0, 'C': 0.01, 'a': -1.5854895991882294e-07, 'B': 70000000.0, 'u_base': -0.00031709791983764585, 'v_base': -0.00031709791983764585}\n",
      "\t\t\tvariable_ub:\t{'u': 0.00031709791983764585, 'v': 0.00031709791983764585, 's': 3600.0, 'H': 3500.0, 'C': 10000.0, 'a': 1.5854895991882294e-07, 'B': 700000000.0, 'u_base': 0.00031709791983764585, 'v_base': 0.00031709791983764585}\n",
      "\t\t\tinput:\t['x', 'y']\n",
      "\t\t\toutput:\t['u', 'v', 's', 'H', 'C', 'B']\n",
      "\t\t\toutput_lb:\t[-0.00031709791983764585, -0.00031709791983764585, -1000.0, 10.0, 0.01, 70000000.0]\n",
      "\t\t\toutput_ub:\t[0.00031709791983764585, 0.00031709791983764585, 3600.0, 3500.0, 10000.0, 700000000.0]\n",
      "\t\t\tdata_weights:\t[99451929600.0, 99451929600.0, 5e-06, 5e-06, 5e-08, 1e-16]\n",
      "\t\t\tresiduals:\t['fSSA_VB1', 'fSSA_VB2']\n",
      "\t\t\tpde_weights:\t[1e-10, 1e-10]\n",
      "\t\t\tscalar_variables:\t{'n': 3, 'B': 200000000.0}\n",
      "\n",
      "\n"
     ]
    },
    {
     "name": "stderr",
     "output_type": "stream",
     "text": [
      "2024-12-20 13:18:45.643139: W tensorflow/core/common_runtime/gpu/gpu_bfc_allocator.cc:47] Overriding orig_value setting because the TF_FORCE_GPU_ALLOW_GROWTH environment variable is set. Original config value was 0.\n",
      "I0000 00:00:1734718725.643362 1093962 gpu_device.cc:2022] Created device /job:localhost/replica:0/task:0/device:GPU:0 with 31134 MB memory:  -> device: 0, name: Tesla V100-SXM2-32GB, pci bus id: 0000:8a:00.0, compute capability: 7.0\n"
     ]
    }
   ],
   "source": [
    "# Load the correct data\n",
    "\n",
    "issm_filename = \"Ryder_test_I19-Dec-2024_3\"\n",
    "datestr = datetime.now().strftime(\"%d-%b-%y\")\n",
    "\n",
    "issm_pinn_path = issm_filename + \"_P\" + datestr + \"_2\"\n",
    "# General parameters for training\n",
    "# Setting up dictionaries\n",
    "# order doesn't matter, but keys DO matter\n",
    "hp = {}\n",
    "\n",
    "# Load data ? \n",
    "# In data_size, each key:value pair defines a variable in the training. \n",
    "# if the key is not redefined in name_map, then it will be used as default \n",
    "# or set in the physics section above. The value associated with the key \n",
    "# gives the number of data points used for training.\n",
    "# If the value is set to None, then only Dirichlet BC around the domain \n",
    "# boundary will be used for the corresponding key. If the variable is included\n",
    "# in the training, but not given in data_size, then there will be no data for this variable in the training\n",
    "flightTrack = {}\n",
    "flightTrack[\"data_path\"] = \"./Ryder_xyz_ds.mat\"\n",
    "flightTrack[\"data_size\"] = {\"H\": 20000}\n",
    "flightTrack[\"name_map\"] = {\"H\": \"thickness\"}\n",
    "flightTrack[\"X_map\"] = {\"x\": \"x\", \"y\":\"y\"}\n",
    "flightTrack[\"source\"] = \"mat\"\n",
    "hp[\"data\"] = {\"ft\": flightTrack}\n",
    "\n",
    "issm = {}\n",
    "issm[\"data_path\"] = \"./Models/\" + issm_filename + \".mat\"\n",
    "issm[\"data_size\"] = {\"u\":10000, \"v\":10000, \"s\":10000, \"H\":None, \"C\":10000, \"B\":10000}\n",
    "hp[\"data\"] = {\"ISSM\":issm, \"ft\":flightTrack} # hp = 'hyperparameters'\n",
    "\n",
    "hp[\"epochs\"] = int(5e4)\n",
    "hp[\"learning_rate\"] = 0.0005\n",
    "hp[\"loss_function\"] = \"MSE\"\n",
    "hp[\"save_path\"] = \"./PINNs/\" + issm_pinn_path\n",
    "hp[\"is_save\"] = True\n",
    "hp[\"is_plot\"] = True\n",
    "\n",
    "# Set NN architecture\n",
    "hp[\"activation\"] = \"tanh\"\n",
    "hp[\"initializer\"] = \"Glorot uniform\"\n",
    "hp[\"num_neurons\"] = 20\n",
    "hp[\"num_layers\"] = 6\n",
    "hp[\"input\"] = ['y', 'x']\n",
    "\n",
    "# Define domain of computation\n",
    "hp[\"shapefile\"] = \"./Ryder_32_09.exp\"\n",
    "# Define number of collocation points used to evaluate PDE residual\n",
    "hp[\"num_collocation_points\"] = 20000\n",
    "\n",
    "# Add physics\n",
    "yts = pinn.physics.Constants().yts\n",
    "SSA = {}\n",
    "SSA[\"scalar_variables\"] = {\"B\":2e+08, \"n\":3} # -20 deg C\n",
    "                    # u                     v                 s        H      C        B\n",
    "SSA[\"data_weights\"] = [(1.0e-2*yts)**2.0, (1.0e-2*yts)**2.0, 5.0e-6, 5.0e-6, 5.0e-8, 1e-16]\n",
    "# hp[\"equations\"] = {\"SSA\":{\"input\":[\"x1\", \"x2\"]}}\n",
    "hp[\"equations\"] = {\"SSA_VB\":SSA}\n",
    "\n",
    "# MOLHO = {}\n",
    "# MOLHO[\"scalar_variables\"] = {\"B\":2e+08}\n",
    "# hp[\"equations\"] = {\"MOLHO\":MOLHO}\n",
    "#                     #        u                 v                u_base               v_base            s        H      C\n",
    "# MOLHO[\"data_weights\"] = [(1.0e-2*yts)**2.0, (1.0e-2*yts)**2.0, (1.0e-2*yts)**2.0, (1.0e-2*yts)**2.0, 1.0e-6, 1.0e-6, 1.0e-8]\n",
    "\n",
    "hp['fft'] = True\n",
    "hp['sigma'] = 5\n",
    "hp['num_fourier_feature'] = 30\n",
    "\n",
    "# Add an additional loss function to balance the contributions between the fast flow and slow moving regions:\n",
    "# vel_loss = {}\n",
    "# vel_loss['name'] = \"vel log\"\n",
    "# vel_loss['function'] = \"VEL_LOG\"\n",
    "# vel_loss['weight'] = 1.0e-5\n",
    "# hp[\"additional_loss\"] = {\"vel\":vel_loss}\n",
    "\n",
    "experiment = pinn.PINN(hp) # set up class PINN (in pinn.py in pinnicle package)\n",
    "# experiment.update_parameters(hp)\n",
    "print(experiment.params) # make sure that settings are in correct spot (keys must be correct)"
   ]
  },
  {
   "cell_type": "code",
   "execution_count": null,
   "id": "5d5c8118-755d-4df5-8e9b-e890d896097b",
   "metadata": {},
   "outputs": [],
   "source": [
    "# Now run the PINN model\n",
    "experiment.compile()\n",
    "\n",
    "# Train\n",
    "experiment.train()\n",
    "# Show results\n",
    "experiment.plot_predictions(X_ref=experiment.model_data.data[\"ISSM\"].X_dict, sol_ref=experiment.model_data.data[\"ISSM\"].data_dict)\n",
    "\n",
    "# Save results \n",
    "import hdf5storage\n",
    "import scipy\n",
    "\n",
    "\n",
    "resolution = 200\n",
    "    # generate 200x200 mesh on the domain\n",
    "X, Y = np.meshgrid(np.linspace(experiment.params.nn.input_lb[0], experiment.params.nn.input_ub[0], resolution),\n",
    "                   np.linspace(experiment.params.nn.input_lb[1], experiment.params.nn.input_ub[1], resolution))\n",
    "X_nn = np.hstack((X.flatten()[:,None], Y.flatten()[:,None]))\n",
    "\n",
    "# predicted solutions\n",
    "sol_pred = experiment.model.predict(X_nn)\n",
    "plot_data = {k+\"_pred\":np.reshape(sol_pred[:,i:i+1], X.shape) for i,k in enumerate(experiment.params.nn.output_variables)}\n",
    "\n",
    "mat_data = {} # make a dictionary to store the MAT data in\n",
    "vars2save = ['sol_pred','X_nn']\n",
    "for i, var_curr in enumerate(vars2save):\n",
    "    exec(f'mat_data[u\"{var_curr}\"] = {var_curr}')\n",
    " \n",
    "hdf5storage.savemat(hp[\"save_path\"] + '/' + issm_pinn_path + '_predictions.mat', mat_data, format='7.3', oned_as='row', store_python_metadata=True)"
   ]
  },
  {
   "cell_type": "code",
   "execution_count": 66,
   "id": "299a42d2-9390-496a-9dea-db4702353b3c",
   "metadata": {},
   "outputs": [
    {
     "name": "stdout",
     "output_type": "stream",
     "text": [
      "{'param_dict': {'data': {'ISSM': {'data_path': './Models/Ryder_test_I05-Dec-2024_2.mat', 'data_size': {'u': 5000, 'v': 5000, 's': 5000, 'H': None, 'C': 5000, 'vel': 5000}}, 'ft': {'data_path': './Ryder_xyz.mat', 'data_size': {'H': 8000}, 'name_map': {'H': 'thickness'}, 'X_map': {'x': 'x', 'y': 'y'}, 'source': 'mat'}}, 'epochs': 100000, 'learning_rate': 0.0005, 'loss_function': 'MSE', 'save_path': './PINNs/Ryder_test_I05-Dec-2024_2_P16-Dec-24_2', 'is_save': True, 'is_plot': True, 'activation': 'tanh', 'initializer': 'Glorot uniform', 'num_neurons': 20, 'num_layers': 6, 'input': ['y', 'x'], 'shapefile': './Ryder_32_09.exp', 'num_collocation_points': 10000, 'equations': {'SSA': {'scalar_variables': {'B': 200000000.0, 'n': 4}, 'data_weights': [99451929600.0, 99451929600.0, 5e-06, 1e-06, 1e-08]}}, 'fft': True, 'sigma': 5, 'num_fourier_feature': 30, 'B': [[6.605542387359734, 1.1229533305596202, 7.43116665398821, -3.535552712628588, 1.424607792835342, -0.7693938490405215, 2.957133272478977, -4.1181006634714805, -2.2233755481664836, 0.05866213053183389, -3.473747079082978, -5.349743346935563, -6.352401425563218, -7.20009333461217, 1.3998747204869217, -8.00116266227681, 1.742740064045345, 1.5133922547538645, 1.6788720323865538, -2.682774687144009, 7.137377859295043, -6.973410232261622, 1.9445679273526781, 5.581465670980226, -6.4342812291664995, -7.476547542706175, 3.258606323999799, 3.0723304391430464, -7.475177505319651, -6.243901698459133], [0.02245839352734292, -5.377949418710337, -1.272100755550987, 4.227235828661067, 2.8081447254947314, 9.32138147917761, 8.119510381707535, 4.956525281359384, 4.3756597998173845, -0.09340490867161316, 2.2453486938600458, 4.8087744911869414, -0.13464990617988368, -4.326513261954675, 3.2691539104299885, 1.3392771859185304, -0.4906908161986363, -4.911673741511931, 9.900504221154904, 5.71092172239849, 6.5576758548462, 2.0817425896143043, 0.061632303729663725, 2.3769509854008426, -11.060872728828459, 2.444416968264758, 4.087964349320703, 3.727723068312578, -0.9643183527863919, -0.01637478994326557]]}, 'equations': {'SSA': <pinnicle.physics.stressbalance.SSAEquationParameter object at 0x14cdd5965810>}}\n"
     ]
    }
   ],
   "source": [
    "# print(len(experiment.model_data.X['C']))\n",
    "# print(len(experiment.model_data.X['H']))\n",
    "# print(experiment.model_data.sol)\n",
    "# print(experiment.params.param_dict['B'])\n",
    "print(vars(experiment.params.physics))"
   ]
  },
  {
   "cell_type": "markdown",
   "id": "a2da36fc-bb06-4bbf-84db-a825e61e71b2",
   "metadata": {},
   "source": [
    "**Below this is old and unpolished code for playing around**"
   ]
  },
  {
   "cell_type": "code",
   "execution_count": 4,
   "id": "440e012c-1bd2-4474-a11a-c971989ca247",
   "metadata": {},
   "outputs": [
    {
     "name": "stdout",
     "output_type": "stream",
     "text": [
      "[-3.1709792e-04 -3.1709792e-04 -1.0000000e+03  1.0000000e+01\n",
      "  1.0000000e-02]\n",
      "<bound method Model.predict of <deepxde.model.Model object at 0x1504e5075630>>\n"
     ]
    }
   ],
   "source": [
    "# How to print different sections of model\n",
    "# print(experiment.params.training)\n",
    "\n",
    "# print(experiment.params.nn.output_lb)\n",
    "# print(experiment.model.predict)\n",
    "\n",
    "import deepxde.backend as bkd\n",
    "\n",
    "resolution = 200\n",
    "    # generate 200x200 mesh on the domain\n",
    "X, Y = np.meshgrid(np.linspace(experiment.params.nn.input_lb[0], experiment.params.nn.input_ub[0], resolution),\n",
    "                   np.linspace(experiment.params.nn.input_lb[1], experiment.params.nn.input_ub[1], resolution))\n",
    "X_nn = np.hstack((X.flatten()[:,None], Y.flatten()[:,None]))\n",
    "grid_size = 2.0*(((experiment.params.nn.input_ub[0] - experiment.params.nn.input_lb[0])/resolution)**2+\n",
    "                 ((experiment.params.nn.input_ub[1] - experiment.params.nn.input_lb[1])/resolution)**2)**0.5\n",
    "if bkd.backend_name == \"pytorch\":\n",
    "    grid_size = bkd.to_numpy(grid_size)\n",
    "\n",
    "# predicted solutions\n",
    "sol_pred = experiment.model.predict(X_nn)\n",
    "plot_data = {k+\"_pred\":np.reshape(sol_pred[:,i:i+1], X.shape) for i,k in enumerate(experiment.params.nn.output_variables)}\n"
   ]
  },
  {
   "cell_type": "code",
   "execution_count": 5,
   "id": "d7182e46-75c9-40c5-a9a1-6f0098090017",
   "metadata": {},
   "outputs": [],
   "source": [
    "import hdf5storage\n",
    "import scipy\n",
    " \n",
    "mat_data = {} # make a dictionary to store the MAT data in\n",
    "vars2save = ['sol_pred','X_nn']\n",
    "for i, var_curr in enumerate(vars2save):\n",
    "    exec(f'mat_data[u\"{var_curr}\"] = {var_curr}')\n",
    " \n",
    "hdf5storage.savemat(hp[\"save_path\"] + '/' + issm_pinn_path + '_predictions.mat', mat_data, format='7.3', oned_as='row', store_python_metadata=True)"
   ]
  },
  {
   "cell_type": "code",
   "execution_count": 1,
   "id": "e2eff09d-6d70-434e-9971-f9fbae2921eb",
   "metadata": {},
   "outputs": [
    {
     "name": "stderr",
     "output_type": "stream",
     "text": [
      "2025-01-10 16:54:10.288539: E external/local_xla/xla/stream_executor/cuda/cuda_fft.cc:477] Unable to register cuFFT factory: Attempting to register factory for plugin cuFFT when one has already been registered\n",
      "WARNING: All log messages before absl::InitializeLog() is called are written to STDERR\n",
      "E0000 00:00:1736546050.319659 3438066 cuda_dnn.cc:8310] Unable to register cuDNN factory: Attempting to register factory for plugin cuDNN when one has already been registered\n",
      "E0000 00:00:1736546050.329664 3438066 cuda_blas.cc:1418] Unable to register cuBLAS factory: Attempting to register factory for plugin cuBLAS when one has already been registered\n",
      "2025-01-10 16:54:10.375069: I tensorflow/core/platform/cpu_feature_guard.cc:210] This TensorFlow binary is optimized to use available CPU instructions in performance-critical operations.\n",
      "To enable the following instructions: AVX2 FMA, in other operations, rebuild TensorFlow with the appropriate compiler flags.\n",
      "Using backend: tensorflow\n",
      "Other supported backends: tensorflow.compat.v1, pytorch, jax, paddle.\n",
      "paddle supports more examples now and is recommended.\n",
      "2025-01-10 16:54:15.622975: E external/local_xla/xla/stream_executor/cuda/cuda_driver.cc:152] failed call to cuInit: INTERNAL: CUDA error: Failed call to cuInit: UNKNOWN ERROR (303)\n",
      "Disable just-in-time compilation with XLA.\n"
     ]
    },
    {
     "name": "stdout",
     "output_type": "stream",
     "text": [
      "Set the default float type to float64\n"
     ]
    },
    {
     "name": "stderr",
     "output_type": "stream",
     "text": [
      "ERROR:root:ERROR: MATLAB type not supported: qmustatistics, (uint32)\n",
      "ERROR:root:ERROR: MATLAB type not supported: lovenumbers, (uint32)\n",
      "ERROR:root:ERROR: MATLAB type not supported: rotational, (uint32)\n",
      "ERROR:root:ERROR: MATLAB type not supported: solidearthsettings, (uint32)\n"
     ]
    },
    {
     "name": "stdout",
     "output_type": "stream",
     "text": [
      "add Fourier feature transform to input transform\n",
      "add output transform with [-3.1709792e-04 -3.1709792e-04 -1.0000000e+03  1.0000000e+01\n",
      "  1.0000000e-02  7.0000000e+07] and [3.1709792e-04 3.1709792e-04 3.6000000e+03 3.5000000e+03 1.0000000e+04\n",
      " 7.0000000e+08]\n",
      "Compiling model...\n",
      "'compile' took 0.007880 s\n",
      "\n",
      "Compiling model...\n",
      "'compile' took 0.003664 s\n",
      "\n"
     ]
    },
    {
     "ename": "TypeError",
     "evalue": "unhashable type: 'list'",
     "output_type": "error",
     "traceback": [
      "\u001b[0;31m---------------------------------------------------------------------------\u001b[0m",
      "\u001b[0;31mTypeError\u001b[0m                                 Traceback (most recent call last)",
      "Cell \u001b[0;32mIn[1], line 103\u001b[0m\n\u001b[1;32m    101\u001b[0m \u001b[38;5;28;01mfor\u001b[39;00m ax, name \u001b[38;5;129;01min\u001b[39;00m \u001b[38;5;28mzip\u001b[39m(axs[\u001b[38;5;241m0\u001b[39m], ref_data\u001b[38;5;241m.\u001b[39mkeys()):\n\u001b[1;32m    102\u001b[0m     vr \u001b[38;5;241m=\u001b[39m cranges\u001b[38;5;241m.\u001b[39msetdefault(name, [\u001b[38;5;28;01mNone\u001b[39;00m, \u001b[38;5;28;01mNone\u001b[39;00m])\n\u001b[0;32m--> 103\u001b[0m     im \u001b[38;5;241m=\u001b[39m \u001b[43max\u001b[49m\u001b[38;5;241;43m.\u001b[39;49m\u001b[43mimshow\u001b[49m\u001b[43m(\u001b[49m\u001b[43mpred_data\u001b[49m\u001b[43m[\u001b[49m\u001b[43mname\u001b[49m\u001b[43m]\u001b[49m\u001b[43m,\u001b[49m\u001b[43m \u001b[49m\u001b[43minterpolation\u001b[49m\u001b[38;5;241;43m=\u001b[39;49m\u001b[38;5;124;43m'\u001b[39;49m\u001b[38;5;124;43mnearest\u001b[39;49m\u001b[38;5;124;43m'\u001b[39;49m\u001b[43m,\u001b[49m\u001b[43m \u001b[49m\u001b[43mcmap\u001b[49m\u001b[38;5;241;43m=\u001b[39;49m\u001b[43mcmaps\u001b[49m\u001b[43m[\u001b[49m\u001b[43mname\u001b[49m\u001b[43m]\u001b[49m\u001b[43m,\u001b[49m\n\u001b[1;32m    104\u001b[0m \u001b[43m                   \u001b[49m\u001b[43mextent\u001b[49m\u001b[38;5;241;43m=\u001b[39;49m\u001b[43m[\u001b[49m\u001b[43mX\u001b[49m\u001b[38;5;241;43m.\u001b[39;49m\u001b[43mmin\u001b[49m\u001b[43m(\u001b[49m\u001b[43m)\u001b[49m\u001b[43m,\u001b[49m\u001b[43m \u001b[49m\u001b[43mX\u001b[49m\u001b[38;5;241;43m.\u001b[39;49m\u001b[43mmax\u001b[49m\u001b[43m(\u001b[49m\u001b[43m)\u001b[49m\u001b[43m,\u001b[49m\u001b[43m \u001b[49m\u001b[43mY\u001b[49m\u001b[38;5;241;43m.\u001b[39;49m\u001b[43mmin\u001b[49m\u001b[43m(\u001b[49m\u001b[43m)\u001b[49m\u001b[43m,\u001b[49m\u001b[43m \u001b[49m\u001b[43mY\u001b[49m\u001b[38;5;241;43m.\u001b[39;49m\u001b[43mmax\u001b[49m\u001b[43m(\u001b[49m\u001b[43m)\u001b[49m\u001b[43m]\u001b[49m\u001b[43m,\u001b[49m\n\u001b[1;32m    105\u001b[0m \u001b[43m                   \u001b[49m\u001b[43mvmin\u001b[49m\u001b[38;5;241;43m=\u001b[39;49m\u001b[43mvr\u001b[49m\u001b[43m[\u001b[49m\u001b[38;5;241;43m0\u001b[39;49m\u001b[43m]\u001b[49m\u001b[43m,\u001b[49m\u001b[43m \u001b[49m\u001b[43mvmax\u001b[49m\u001b[38;5;241;43m=\u001b[39;49m\u001b[43mvr\u001b[49m\u001b[43m[\u001b[49m\u001b[38;5;241;43m1\u001b[39;49m\u001b[43m]\u001b[49m\u001b[43m,\u001b[49m\n\u001b[1;32m    106\u001b[0m \u001b[43m                   \u001b[49m\u001b[43morigin\u001b[49m\u001b[38;5;241;43m=\u001b[39;49m\u001b[38;5;124;43m'\u001b[39;49m\u001b[38;5;124;43mlower\u001b[39;49m\u001b[38;5;124;43m'\u001b[39;49m\u001b[43m,\u001b[49m\u001b[43m \u001b[49m\u001b[43maspect\u001b[49m\u001b[38;5;241;43m=\u001b[39;49m\u001b[38;5;124;43m'\u001b[39;49m\u001b[38;5;124;43mequal\u001b[39;49m\u001b[38;5;124;43m'\u001b[39;49m\u001b[43m)\u001b[49m\n\u001b[1;32m    107\u001b[0m     ax\u001b[38;5;241m.\u001b[39mset_title(name\u001b[38;5;241m+\u001b[39m\u001b[38;5;124m\"\u001b[39m\u001b[38;5;124m_pred\u001b[39m\u001b[38;5;124m\"\u001b[39m)\n\u001b[1;32m    108\u001b[0m     ax\u001b[38;5;241m.\u001b[39mtick_params(left \u001b[38;5;241m=\u001b[39m \u001b[38;5;28;01mFalse\u001b[39;00m, right \u001b[38;5;241m=\u001b[39m \u001b[38;5;28;01mFalse\u001b[39;00m , labelleft \u001b[38;5;241m=\u001b[39m \u001b[38;5;28;01mFalse\u001b[39;00m , \n\u001b[1;32m    109\u001b[0m                    labelbottom \u001b[38;5;241m=\u001b[39m \u001b[38;5;28;01mFalse\u001b[39;00m, bottom \u001b[38;5;241m=\u001b[39m \u001b[38;5;28;01mFalse\u001b[39;00m)\n",
      "File \u001b[0;32m~/.conda/envs/PINNICLEenv/lib/python3.10/site-packages/matplotlib/__init__.py:1473\u001b[0m, in \u001b[0;36m_preprocess_data.<locals>.inner\u001b[0;34m(ax, data, *args, **kwargs)\u001b[0m\n\u001b[1;32m   1470\u001b[0m \u001b[38;5;129m@functools\u001b[39m\u001b[38;5;241m.\u001b[39mwraps(func)\n\u001b[1;32m   1471\u001b[0m \u001b[38;5;28;01mdef\u001b[39;00m \u001b[38;5;21minner\u001b[39m(ax, \u001b[38;5;241m*\u001b[39margs, data\u001b[38;5;241m=\u001b[39m\u001b[38;5;28;01mNone\u001b[39;00m, \u001b[38;5;241m*\u001b[39m\u001b[38;5;241m*\u001b[39mkwargs):\n\u001b[1;32m   1472\u001b[0m     \u001b[38;5;28;01mif\u001b[39;00m data \u001b[38;5;129;01mis\u001b[39;00m \u001b[38;5;28;01mNone\u001b[39;00m:\n\u001b[0;32m-> 1473\u001b[0m         \u001b[38;5;28;01mreturn\u001b[39;00m \u001b[43mfunc\u001b[49m\u001b[43m(\u001b[49m\n\u001b[1;32m   1474\u001b[0m \u001b[43m            \u001b[49m\u001b[43max\u001b[49m\u001b[43m,\u001b[49m\n\u001b[1;32m   1475\u001b[0m \u001b[43m            \u001b[49m\u001b[38;5;241;43m*\u001b[39;49m\u001b[38;5;28;43mmap\u001b[39;49m\u001b[43m(\u001b[49m\u001b[43msanitize_sequence\u001b[49m\u001b[43m,\u001b[49m\u001b[43m \u001b[49m\u001b[43margs\u001b[49m\u001b[43m)\u001b[49m\u001b[43m,\u001b[49m\n\u001b[1;32m   1476\u001b[0m \u001b[43m            \u001b[49m\u001b[38;5;241;43m*\u001b[39;49m\u001b[38;5;241;43m*\u001b[39;49m\u001b[43m{\u001b[49m\u001b[43mk\u001b[49m\u001b[43m:\u001b[49m\u001b[43m \u001b[49m\u001b[43msanitize_sequence\u001b[49m\u001b[43m(\u001b[49m\u001b[43mv\u001b[49m\u001b[43m)\u001b[49m\u001b[43m \u001b[49m\u001b[38;5;28;43;01mfor\u001b[39;49;00m\u001b[43m \u001b[49m\u001b[43mk\u001b[49m\u001b[43m,\u001b[49m\u001b[43m \u001b[49m\u001b[43mv\u001b[49m\u001b[43m \u001b[49m\u001b[38;5;129;43;01min\u001b[39;49;00m\u001b[43m \u001b[49m\u001b[43mkwargs\u001b[49m\u001b[38;5;241;43m.\u001b[39;49m\u001b[43mitems\u001b[49m\u001b[43m(\u001b[49m\u001b[43m)\u001b[49m\u001b[43m}\u001b[49m\u001b[43m)\u001b[49m\n\u001b[1;32m   1478\u001b[0m     bound \u001b[38;5;241m=\u001b[39m new_sig\u001b[38;5;241m.\u001b[39mbind(ax, \u001b[38;5;241m*\u001b[39margs, \u001b[38;5;241m*\u001b[39m\u001b[38;5;241m*\u001b[39mkwargs)\n\u001b[1;32m   1479\u001b[0m     auto_label \u001b[38;5;241m=\u001b[39m (bound\u001b[38;5;241m.\u001b[39marguments\u001b[38;5;241m.\u001b[39mget(label_namer)\n\u001b[1;32m   1480\u001b[0m                   \u001b[38;5;129;01mor\u001b[39;00m bound\u001b[38;5;241m.\u001b[39mkwargs\u001b[38;5;241m.\u001b[39mget(label_namer))\n",
      "File \u001b[0;32m~/.conda/envs/PINNICLEenv/lib/python3.10/site-packages/matplotlib/axes/_axes.py:5881\u001b[0m, in \u001b[0;36mAxes.imshow\u001b[0;34m(self, X, cmap, norm, aspect, interpolation, alpha, vmin, vmax, origin, extent, interpolation_stage, filternorm, filterrad, resample, url, **kwargs)\u001b[0m\n\u001b[1;32m   5676\u001b[0m \u001b[38;5;129m@_preprocess_data\u001b[39m()\n\u001b[1;32m   5677\u001b[0m \u001b[38;5;129m@_docstring\u001b[39m\u001b[38;5;241m.\u001b[39minterpd\n\u001b[1;32m   5678\u001b[0m \u001b[38;5;28;01mdef\u001b[39;00m \u001b[38;5;21mimshow\u001b[39m(\u001b[38;5;28mself\u001b[39m, X, cmap\u001b[38;5;241m=\u001b[39m\u001b[38;5;28;01mNone\u001b[39;00m, norm\u001b[38;5;241m=\u001b[39m\u001b[38;5;28;01mNone\u001b[39;00m, \u001b[38;5;241m*\u001b[39m, aspect\u001b[38;5;241m=\u001b[39m\u001b[38;5;28;01mNone\u001b[39;00m,\n\u001b[0;32m   (...)\u001b[0m\n\u001b[1;32m   5681\u001b[0m            interpolation_stage\u001b[38;5;241m=\u001b[39m\u001b[38;5;28;01mNone\u001b[39;00m, filternorm\u001b[38;5;241m=\u001b[39m\u001b[38;5;28;01mTrue\u001b[39;00m, filterrad\u001b[38;5;241m=\u001b[39m\u001b[38;5;241m4.0\u001b[39m,\n\u001b[1;32m   5682\u001b[0m            resample\u001b[38;5;241m=\u001b[39m\u001b[38;5;28;01mNone\u001b[39;00m, url\u001b[38;5;241m=\u001b[39m\u001b[38;5;28;01mNone\u001b[39;00m, \u001b[38;5;241m*\u001b[39m\u001b[38;5;241m*\u001b[39mkwargs):\n\u001b[1;32m   5683\u001b[0m \u001b[38;5;250m    \u001b[39m\u001b[38;5;124;03m\"\"\"\u001b[39;00m\n\u001b[1;32m   5684\u001b[0m \u001b[38;5;124;03m    Display data as an image, i.e., on a 2D regular raster.\u001b[39;00m\n\u001b[1;32m   5685\u001b[0m \n\u001b[0;32m   (...)\u001b[0m\n\u001b[1;32m   5879\u001b[0m \u001b[38;5;124;03m    (unassociated) alpha representation.\u001b[39;00m\n\u001b[1;32m   5880\u001b[0m \u001b[38;5;124;03m    \"\"\"\u001b[39;00m\n\u001b[0;32m-> 5881\u001b[0m     im \u001b[38;5;241m=\u001b[39m \u001b[43mmimage\u001b[49m\u001b[38;5;241;43m.\u001b[39;49m\u001b[43mAxesImage\u001b[49m\u001b[43m(\u001b[49m\u001b[38;5;28;43mself\u001b[39;49m\u001b[43m,\u001b[49m\u001b[43m \u001b[49m\u001b[43mcmap\u001b[49m\u001b[38;5;241;43m=\u001b[39;49m\u001b[43mcmap\u001b[49m\u001b[43m,\u001b[49m\u001b[43m \u001b[49m\u001b[43mnorm\u001b[49m\u001b[38;5;241;43m=\u001b[39;49m\u001b[43mnorm\u001b[49m\u001b[43m,\u001b[49m\n\u001b[1;32m   5882\u001b[0m \u001b[43m                          \u001b[49m\u001b[43minterpolation\u001b[49m\u001b[38;5;241;43m=\u001b[39;49m\u001b[43minterpolation\u001b[49m\u001b[43m,\u001b[49m\u001b[43m \u001b[49m\u001b[43morigin\u001b[49m\u001b[38;5;241;43m=\u001b[39;49m\u001b[43morigin\u001b[49m\u001b[43m,\u001b[49m\n\u001b[1;32m   5883\u001b[0m \u001b[43m                          \u001b[49m\u001b[43mextent\u001b[49m\u001b[38;5;241;43m=\u001b[39;49m\u001b[43mextent\u001b[49m\u001b[43m,\u001b[49m\u001b[43m \u001b[49m\u001b[43mfilternorm\u001b[49m\u001b[38;5;241;43m=\u001b[39;49m\u001b[43mfilternorm\u001b[49m\u001b[43m,\u001b[49m\n\u001b[1;32m   5884\u001b[0m \u001b[43m                          \u001b[49m\u001b[43mfilterrad\u001b[49m\u001b[38;5;241;43m=\u001b[39;49m\u001b[43mfilterrad\u001b[49m\u001b[43m,\u001b[49m\u001b[43m \u001b[49m\u001b[43mresample\u001b[49m\u001b[38;5;241;43m=\u001b[39;49m\u001b[43mresample\u001b[49m\u001b[43m,\u001b[49m\n\u001b[1;32m   5885\u001b[0m \u001b[43m                          \u001b[49m\u001b[43minterpolation_stage\u001b[49m\u001b[38;5;241;43m=\u001b[39;49m\u001b[43minterpolation_stage\u001b[49m\u001b[43m,\u001b[49m\n\u001b[1;32m   5886\u001b[0m \u001b[43m                          \u001b[49m\u001b[38;5;241;43m*\u001b[39;49m\u001b[38;5;241;43m*\u001b[39;49m\u001b[43mkwargs\u001b[49m\u001b[43m)\u001b[49m\n\u001b[1;32m   5888\u001b[0m     \u001b[38;5;28;01mif\u001b[39;00m aspect \u001b[38;5;129;01mis\u001b[39;00m \u001b[38;5;28;01mNone\u001b[39;00m \u001b[38;5;129;01mand\u001b[39;00m \u001b[38;5;129;01mnot\u001b[39;00m (\n\u001b[1;32m   5889\u001b[0m             im\u001b[38;5;241m.\u001b[39mis_transform_set()\n\u001b[1;32m   5890\u001b[0m             \u001b[38;5;129;01mand\u001b[39;00m \u001b[38;5;129;01mnot\u001b[39;00m im\u001b[38;5;241m.\u001b[39mget_transform()\u001b[38;5;241m.\u001b[39mcontains_branch(\u001b[38;5;28mself\u001b[39m\u001b[38;5;241m.\u001b[39mtransData)):\n\u001b[1;32m   5891\u001b[0m         aspect \u001b[38;5;241m=\u001b[39m mpl\u001b[38;5;241m.\u001b[39mrcParams[\u001b[38;5;124m'\u001b[39m\u001b[38;5;124mimage.aspect\u001b[39m\u001b[38;5;124m'\u001b[39m]\n",
      "File \u001b[0;32m~/.conda/envs/PINNICLEenv/lib/python3.10/site-packages/matplotlib/image.py:925\u001b[0m, in \u001b[0;36mAxesImage.__init__\u001b[0;34m(self, ax, cmap, norm, interpolation, origin, extent, filternorm, filterrad, resample, interpolation_stage, **kwargs)\u001b[0m\n\u001b[1;32m    909\u001b[0m \u001b[38;5;28;01mdef\u001b[39;00m \u001b[38;5;21m__init__\u001b[39m(\u001b[38;5;28mself\u001b[39m, ax,\n\u001b[1;32m    910\u001b[0m              \u001b[38;5;241m*\u001b[39m,\n\u001b[1;32m    911\u001b[0m              cmap\u001b[38;5;241m=\u001b[39m\u001b[38;5;28;01mNone\u001b[39;00m,\n\u001b[0;32m   (...)\u001b[0m\n\u001b[1;32m    920\u001b[0m              \u001b[38;5;241m*\u001b[39m\u001b[38;5;241m*\u001b[39mkwargs\n\u001b[1;32m    921\u001b[0m              ):\n\u001b[1;32m    923\u001b[0m     \u001b[38;5;28mself\u001b[39m\u001b[38;5;241m.\u001b[39m_extent \u001b[38;5;241m=\u001b[39m extent\n\u001b[0;32m--> 925\u001b[0m     \u001b[38;5;28;43msuper\u001b[39;49m\u001b[43m(\u001b[49m\u001b[43m)\u001b[49m\u001b[38;5;241;43m.\u001b[39;49m\u001b[38;5;21;43m__init__\u001b[39;49m\u001b[43m(\u001b[49m\n\u001b[1;32m    926\u001b[0m \u001b[43m        \u001b[49m\u001b[43max\u001b[49m\u001b[43m,\u001b[49m\n\u001b[1;32m    927\u001b[0m \u001b[43m        \u001b[49m\u001b[43mcmap\u001b[49m\u001b[38;5;241;43m=\u001b[39;49m\u001b[43mcmap\u001b[49m\u001b[43m,\u001b[49m\n\u001b[1;32m    928\u001b[0m \u001b[43m        \u001b[49m\u001b[43mnorm\u001b[49m\u001b[38;5;241;43m=\u001b[39;49m\u001b[43mnorm\u001b[49m\u001b[43m,\u001b[49m\n\u001b[1;32m    929\u001b[0m \u001b[43m        \u001b[49m\u001b[43minterpolation\u001b[49m\u001b[38;5;241;43m=\u001b[39;49m\u001b[43minterpolation\u001b[49m\u001b[43m,\u001b[49m\n\u001b[1;32m    930\u001b[0m \u001b[43m        \u001b[49m\u001b[43morigin\u001b[49m\u001b[38;5;241;43m=\u001b[39;49m\u001b[43morigin\u001b[49m\u001b[43m,\u001b[49m\n\u001b[1;32m    931\u001b[0m \u001b[43m        \u001b[49m\u001b[43mfilternorm\u001b[49m\u001b[38;5;241;43m=\u001b[39;49m\u001b[43mfilternorm\u001b[49m\u001b[43m,\u001b[49m\n\u001b[1;32m    932\u001b[0m \u001b[43m        \u001b[49m\u001b[43mfilterrad\u001b[49m\u001b[38;5;241;43m=\u001b[39;49m\u001b[43mfilterrad\u001b[49m\u001b[43m,\u001b[49m\n\u001b[1;32m    933\u001b[0m \u001b[43m        \u001b[49m\u001b[43mresample\u001b[49m\u001b[38;5;241;43m=\u001b[39;49m\u001b[43mresample\u001b[49m\u001b[43m,\u001b[49m\n\u001b[1;32m    934\u001b[0m \u001b[43m        \u001b[49m\u001b[43minterpolation_stage\u001b[49m\u001b[38;5;241;43m=\u001b[39;49m\u001b[43minterpolation_stage\u001b[49m\u001b[43m,\u001b[49m\n\u001b[1;32m    935\u001b[0m \u001b[43m        \u001b[49m\u001b[38;5;241;43m*\u001b[39;49m\u001b[38;5;241;43m*\u001b[39;49m\u001b[43mkwargs\u001b[49m\n\u001b[1;32m    936\u001b[0m \u001b[43m    \u001b[49m\u001b[43m)\u001b[49m\n",
      "File \u001b[0;32m~/.conda/envs/PINNICLEenv/lib/python3.10/site-packages/matplotlib/image.py:261\u001b[0m, in \u001b[0;36m_ImageBase.__init__\u001b[0;34m(self, ax, cmap, norm, interpolation, origin, filternorm, filterrad, resample, interpolation_stage, **kwargs)\u001b[0m\n\u001b[1;32m    248\u001b[0m \u001b[38;5;28;01mdef\u001b[39;00m \u001b[38;5;21m__init__\u001b[39m(\u001b[38;5;28mself\u001b[39m, ax,\n\u001b[1;32m    249\u001b[0m              cmap\u001b[38;5;241m=\u001b[39m\u001b[38;5;28;01mNone\u001b[39;00m,\n\u001b[1;32m    250\u001b[0m              norm\u001b[38;5;241m=\u001b[39m\u001b[38;5;28;01mNone\u001b[39;00m,\n\u001b[0;32m   (...)\u001b[0m\n\u001b[1;32m    258\u001b[0m              \u001b[38;5;241m*\u001b[39m\u001b[38;5;241m*\u001b[39mkwargs\n\u001b[1;32m    259\u001b[0m              ):\n\u001b[1;32m    260\u001b[0m     martist\u001b[38;5;241m.\u001b[39mArtist\u001b[38;5;241m.\u001b[39m\u001b[38;5;21m__init__\u001b[39m(\u001b[38;5;28mself\u001b[39m)\n\u001b[0;32m--> 261\u001b[0m     \u001b[43mcm\u001b[49m\u001b[38;5;241;43m.\u001b[39;49m\u001b[43mScalarMappable\u001b[49m\u001b[38;5;241;43m.\u001b[39;49m\u001b[38;5;21;43m__init__\u001b[39;49m\u001b[43m(\u001b[49m\u001b[38;5;28;43mself\u001b[39;49m\u001b[43m,\u001b[49m\u001b[43m \u001b[49m\u001b[43mnorm\u001b[49m\u001b[43m,\u001b[49m\u001b[43m \u001b[49m\u001b[43mcmap\u001b[49m\u001b[43m)\u001b[49m\n\u001b[1;32m    262\u001b[0m     \u001b[38;5;28;01mif\u001b[39;00m origin \u001b[38;5;129;01mis\u001b[39;00m \u001b[38;5;28;01mNone\u001b[39;00m:\n\u001b[1;32m    263\u001b[0m         origin \u001b[38;5;241m=\u001b[39m mpl\u001b[38;5;241m.\u001b[39mrcParams[\u001b[38;5;124m'\u001b[39m\u001b[38;5;124mimage.origin\u001b[39m\u001b[38;5;124m'\u001b[39m]\n",
      "File \u001b[0;32m~/.conda/envs/PINNICLEenv/lib/python3.10/site-packages/matplotlib/cm.py:327\u001b[0m, in \u001b[0;36mScalarMappable.__init__\u001b[0;34m(self, norm, cmap)\u001b[0m\n\u001b[1;32m    325\u001b[0m \u001b[38;5;28mself\u001b[39m\u001b[38;5;241m.\u001b[39mset_norm(norm)  \u001b[38;5;66;03m# The Normalize instance of this ScalarMappable.\u001b[39;00m\n\u001b[1;32m    326\u001b[0m \u001b[38;5;28mself\u001b[39m\u001b[38;5;241m.\u001b[39mcmap \u001b[38;5;241m=\u001b[39m \u001b[38;5;28;01mNone\u001b[39;00m  \u001b[38;5;66;03m# So that the setter knows we're initializing.\u001b[39;00m\n\u001b[0;32m--> 327\u001b[0m \u001b[38;5;28;43mself\u001b[39;49m\u001b[38;5;241;43m.\u001b[39;49m\u001b[43mset_cmap\u001b[49m\u001b[43m(\u001b[49m\u001b[43mcmap\u001b[49m\u001b[43m)\u001b[49m  \u001b[38;5;66;03m# The Colormap instance of this ScalarMappable.\u001b[39;00m\n\u001b[1;32m    328\u001b[0m \u001b[38;5;66;03m#: The last colorbar associated with this ScalarMappable. May be None.\u001b[39;00m\n\u001b[1;32m    329\u001b[0m \u001b[38;5;28mself\u001b[39m\u001b[38;5;241m.\u001b[39mcolorbar \u001b[38;5;241m=\u001b[39m \u001b[38;5;28;01mNone\u001b[39;00m\n",
      "File \u001b[0;32m~/.conda/envs/PINNICLEenv/lib/python3.10/site-packages/matplotlib/cm.py:524\u001b[0m, in \u001b[0;36mScalarMappable.set_cmap\u001b[0;34m(self, cmap)\u001b[0m\n\u001b[1;32m    515\u001b[0m \u001b[38;5;250m\u001b[39m\u001b[38;5;124;03m\"\"\"\u001b[39;00m\n\u001b[1;32m    516\u001b[0m \u001b[38;5;124;03mSet the colormap for luminance data.\u001b[39;00m\n\u001b[1;32m    517\u001b[0m \n\u001b[0;32m   (...)\u001b[0m\n\u001b[1;32m    520\u001b[0m \u001b[38;5;124;03mcmap : `.Colormap` or str or None\u001b[39;00m\n\u001b[1;32m    521\u001b[0m \u001b[38;5;124;03m\"\"\"\u001b[39;00m\n\u001b[1;32m    522\u001b[0m in_init \u001b[38;5;241m=\u001b[39m \u001b[38;5;28mself\u001b[39m\u001b[38;5;241m.\u001b[39mcmap \u001b[38;5;129;01mis\u001b[39;00m \u001b[38;5;28;01mNone\u001b[39;00m\n\u001b[0;32m--> 524\u001b[0m \u001b[38;5;28mself\u001b[39m\u001b[38;5;241m.\u001b[39mcmap \u001b[38;5;241m=\u001b[39m \u001b[43m_ensure_cmap\u001b[49m\u001b[43m(\u001b[49m\u001b[43mcmap\u001b[49m\u001b[43m)\u001b[49m\n\u001b[1;32m    525\u001b[0m \u001b[38;5;28;01mif\u001b[39;00m \u001b[38;5;129;01mnot\u001b[39;00m in_init:\n\u001b[1;32m    526\u001b[0m     \u001b[38;5;28mself\u001b[39m\u001b[38;5;241m.\u001b[39mchanged()\n",
      "File \u001b[0;32m~/.conda/envs/PINNICLEenv/lib/python3.10/site-packages/matplotlib/cm.py:662\u001b[0m, in \u001b[0;36m_ensure_cmap\u001b[0;34m(cmap)\u001b[0m\n\u001b[1;32m    659\u001b[0m cmap_name \u001b[38;5;241m=\u001b[39m cmap \u001b[38;5;28;01mif\u001b[39;00m cmap \u001b[38;5;129;01mis\u001b[39;00m \u001b[38;5;129;01mnot\u001b[39;00m \u001b[38;5;28;01mNone\u001b[39;00m \u001b[38;5;28;01melse\u001b[39;00m mpl\u001b[38;5;241m.\u001b[39mrcParams[\u001b[38;5;124m\"\u001b[39m\u001b[38;5;124mimage.cmap\u001b[39m\u001b[38;5;124m\"\u001b[39m]\n\u001b[1;32m    660\u001b[0m \u001b[38;5;66;03m# use check_in_list to ensure type stability of the exception raised by\u001b[39;00m\n\u001b[1;32m    661\u001b[0m \u001b[38;5;66;03m# the internal usage of this (ValueError vs KeyError)\u001b[39;00m\n\u001b[0;32m--> 662\u001b[0m \u001b[38;5;28;01mif\u001b[39;00m \u001b[43mcmap_name\u001b[49m\u001b[43m \u001b[49m\u001b[38;5;129;43;01mnot\u001b[39;49;00m\u001b[43m \u001b[49m\u001b[38;5;129;43;01min\u001b[39;49;00m\u001b[43m \u001b[49m\u001b[43m_colormaps\u001b[49m:\n\u001b[1;32m    663\u001b[0m     _api\u001b[38;5;241m.\u001b[39mcheck_in_list(\u001b[38;5;28msorted\u001b[39m(_colormaps), cmap\u001b[38;5;241m=\u001b[39mcmap_name)\n\u001b[1;32m    664\u001b[0m \u001b[38;5;28;01mreturn\u001b[39;00m mpl\u001b[38;5;241m.\u001b[39mcolormaps[cmap_name]\n",
      "File \u001b[0;32m~/.conda/envs/PINNICLEenv/lib/python3.10/_collections_abc.py:830\u001b[0m, in \u001b[0;36mMapping.__contains__\u001b[0;34m(self, key)\u001b[0m\n\u001b[1;32m    828\u001b[0m \u001b[38;5;28;01mdef\u001b[39;00m \u001b[38;5;21m__contains__\u001b[39m(\u001b[38;5;28mself\u001b[39m, key):\n\u001b[1;32m    829\u001b[0m     \u001b[38;5;28;01mtry\u001b[39;00m:\n\u001b[0;32m--> 830\u001b[0m         \u001b[38;5;28;43mself\u001b[39;49m\u001b[43m[\u001b[49m\u001b[43mkey\u001b[49m\u001b[43m]\u001b[49m\n\u001b[1;32m    831\u001b[0m     \u001b[38;5;28;01mexcept\u001b[39;00m \u001b[38;5;167;01mKeyError\u001b[39;00m:\n\u001b[1;32m    832\u001b[0m         \u001b[38;5;28;01mreturn\u001b[39;00m \u001b[38;5;28;01mFalse\u001b[39;00m\n",
      "File \u001b[0;32m~/.conda/envs/PINNICLEenv/lib/python3.10/site-packages/matplotlib/cm.py:89\u001b[0m, in \u001b[0;36mColormapRegistry.__getitem__\u001b[0;34m(self, item)\u001b[0m\n\u001b[1;32m     87\u001b[0m \u001b[38;5;28;01mdef\u001b[39;00m \u001b[38;5;21m__getitem__\u001b[39m(\u001b[38;5;28mself\u001b[39m, item):\n\u001b[1;32m     88\u001b[0m     \u001b[38;5;28;01mtry\u001b[39;00m:\n\u001b[0;32m---> 89\u001b[0m         \u001b[38;5;28;01mreturn\u001b[39;00m \u001b[38;5;28;43mself\u001b[39;49m\u001b[38;5;241;43m.\u001b[39;49m\u001b[43m_cmaps\u001b[49m\u001b[43m[\u001b[49m\u001b[43mitem\u001b[49m\u001b[43m]\u001b[49m\u001b[38;5;241m.\u001b[39mcopy()\n\u001b[1;32m     90\u001b[0m     \u001b[38;5;28;01mexcept\u001b[39;00m \u001b[38;5;167;01mKeyError\u001b[39;00m:\n\u001b[1;32m     91\u001b[0m         \u001b[38;5;28;01mraise\u001b[39;00m \u001b[38;5;167;01mKeyError\u001b[39;00m(\u001b[38;5;124mf\u001b[39m\u001b[38;5;124m\"\u001b[39m\u001b[38;5;132;01m{\u001b[39;00mitem\u001b[38;5;132;01m!r}\u001b[39;00m\u001b[38;5;124m is not a known colormap name\u001b[39m\u001b[38;5;124m\"\u001b[39m) \u001b[38;5;28;01mfrom\u001b[39;00m \u001b[38;5;28;01mNone\u001b[39;00m\n",
      "\u001b[0;31mTypeError\u001b[0m: unhashable type: 'list'"
     ]
    },
    {
     "data": {
      "image/png": "[encoded data removed]",
      "text/plain": [
       "<Figure size 1200x900 with 23 Axes>"
      ]
     },
     "metadata": {},
     "output_type": "display_data"
    }
   ],
   "source": [
    "import pinnicle as pinn\n",
    "import numpy as np\n",
    "import deepxde as dde\n",
    "import matplotlib.pyplot as plt\n",
    "from datetime import datetime\n",
    "\n",
    "# Set up some configurations\n",
    "dde.config.set_default_float('float64')\n",
    "dde.config.disable_xla_jit()\n",
    "dde.config.set_random_seed(1234)\n",
    "\n",
    "## Load settings from previous experiment\n",
    "experiment = pinn.PINN(loadFrom=\"./PINNs/Ryder_issm2024-Dec-19_3_pinn25-Jan-10_2G\")\n",
    "\n",
    "# new_folder = './PINNs/Ryder_issm2024-Dec-19_3_pinn25-Jan-09-1La'\n",
    "# experiment.update_parameters({\"save_path\": new_folder})\n",
    "\n",
    "## Load weights from previously trained NN\n",
    "experiment.load_model(path=\"./PINNs/Ryder_issm2024-Dec-19_3_pinn25-Jan-10_2G\")\n",
    "\n",
    "\n",
    "# Plotting\n",
    "\n",
    "import math\n",
    "import matplotlib.pyplot as plt\n",
    "import matplotlib.colors as colors\n",
    "import matplotlib.ticker as ticker\n",
    "import matplotlib as mpl\n",
    "import deepxde.backend as bkd\n",
    "from matplotlib.colors import ListedColormap\n",
    "from scipy.interpolate import griddata\n",
    "from scipy.spatial import cKDTree as KDTree\n",
    "import scipy.io as sio\n",
    "import pandas as pd\n",
    "from scipy.stats import iqr\n",
    "\n",
    "resolution = 150\n",
    "\n",
    "    # generate 200x200 mesh on the domain\n",
    "X, Y = np.meshgrid(np.linspace(experiment.params.nn.input_lb[0], experiment.params.nn.input_ub[0], resolution),\n",
    "                   np.linspace(experiment.params.nn.input_lb[1], experiment.params.nn.input_ub[1], resolution))\n",
    "X_nn = np.hstack((X.flatten()[:,None], Y.flatten()[:,None]))\n",
    "\n",
    "X_ref=experiment.model_data.data[\"ISSM\"].X_dict\n",
    "X_ref = np.hstack((X_ref['x'].flatten()[:,None],X_ref['y'].flatten()[:,None]))\n",
    "\n",
    "# predicted solutions\n",
    "sol_pred = experiment.model.predict(X_nn)\n",
    "\n",
    "sol_ref=experiment.model_data.data[\"ISSM\"].data_dict\n",
    "ref_data = {k:griddata(X_ref, sol_ref[k].flatten(), (X, Y), method='cubic') for k in experiment.params.nn.output_variables if k in sol_ref}\n",
    "\n",
    "del ref_data['B']\n",
    "\n",
    "pred_data = {k:np.reshape(sol_pred[:,i:i+1], X.shape) for i,k in enumerate(experiment.params.nn.output_variables)}\n",
    "vranges = {k+\"_pred\":[experiment.params.nn.output_lb[i], experiment.params.nn.output_ub[i]] for i,k in enumerate(experiment.params.nn.output_variables)}\n",
    "\n",
    "ref_names = ref_data.keys()\n",
    "data_names = pred_data.keys()\n",
    "yts = 31536000.0\n",
    "\n",
    "ref_data[\"u\"] = yts*ref_data[\"u\"]\n",
    "ref_data[\"v\"] = yts*ref_data[\"v\"]\n",
    "\n",
    "pred_data[\"u\"] = yts*pred_data[\"u\"]\n",
    "pred_data[\"v\"] = yts*pred_data[\"v\"]\n",
    "# pred_data[\"u_base\"] = yts*pred_data[\"u_base\"]\n",
    "# pred_data[\"v_base\"] = yts*pred_data[\"v_base\"]\n",
    "\n",
    "\n",
    "cranges = {name:[np.round(np.min(ref_data[name]),decimals=-1), np.round(np.max(ref_data[name]),decimals=-1)] for name in ref_names}\n",
    "# cranges[\"u_base\"] = cranges[\"u\"]\n",
    "# cranges[\"v_base\"] = cranges[\"v\"]\n",
    "\n",
    "clabels = {name:[] for name in ref_names}\n",
    "clabels[\"u\"] = \"m/yr\"\n",
    "clabels[\"v\"] = \"m/yr\"\n",
    "clabels[\"s\"] = \"m\"\n",
    "clabels[\"C\"] = \"Pa^1/2 m^-1/6 s^1/6\"\n",
    "clabels[\"H\"] = \"m\"\n",
    "\n",
    "cmaps = {name:[] for name in ref_names}\n",
    "cmaps[\"u\"] = plt.get_cmap(\"magma\", 10)\n",
    "cmaps[\"v\"] = plt.get_cmap(\"magma\", 10)\n",
    "cmaps[\"s\"] = plt.get_cmap(\"gist_earth\", 10)\n",
    "cmaps[\"C\"] = plt.get_cmap(\"cividis\", 10)\n",
    "cmaps[\"H\"] = plt.get_cmap(\"ocean\", 10)\n",
    "\n",
    "perc_diff = {name:((pred_data[name] - ref_data[name])/ref_data[name])*100 for name in ref_names}\n",
    "q75_pd = {name:np.quantile(np.abs(perc_diff[name]),0.75) for name in ref_names}\n",
    "cranges_pd = {name:[-1*q75_pd[name], q75_pd[name]] for name in ref_names}\n",
    "# cranges_pd = {name:[-np.round(np.max(np.abs(perc_diff[name])), decimals=-1), np.round(np.max(np.abs(perc_diff[name])), decimals=-1)] for name in ref_names}\n",
    "\n",
    "n = len(ref_data)\n",
    "# if cols is None:\n",
    "cols = len(ref_names)\n",
    "\n",
    "# fig, axs = plt.subplots(math.ceil(n/cols), cols, figsize=(12,9))\n",
    "# for ax, name in zip(axs.ravel(), ref_data.keys()):\n",
    "fig, axs = plt.subplots(3, cols, figsize=(12,9))\n",
    "for ax, name in zip(axs[0], ref_data.keys()):\n",
    "    vr = cranges.setdefault(name, [None, None])\n",
    "    im = ax.imshow(pred_data[name], interpolation='nearest', cmap=cmaps[name],\n",
    "                   extent=[X.min(), X.max(), Y.min(), Y.max()],\n",
    "                   vmin=vr[0], vmax=vr[1],\n",
    "                   origin='lower', aspect='equal')\n",
    "    ax.set_title(name+\"_pred\")\n",
    "    ax.tick_params(left = False, right = False , labelleft = False , \n",
    "                   labelbottom = False, bottom = False)\n",
    "    fig.colorbar(im, ax=ax, location=\"bottom\")\n",
    "\n",
    "# fig, axs = plt.subplots(math.floor(n/cols), cols, figsize=(12,9))\n",
    "for ax, name in zip(axs[1], ref_data.keys()):\n",
    "    vr = cranges.setdefault(name, [None, None])\n",
    "    im = ax.imshow(ref_data[name], interpolation='nearest', cmap=cmaps[name],\n",
    "                   extent=[X.min(), X.max(), Y.min(), Y.max()],\n",
    "                   vmin=vr[0], vmax=vr[1],\n",
    "                   aspect='equal', origin='lower')\n",
    "    ax.set_title(name+\"_ref\")\n",
    "    ax.tick_params(left = False, right = False , labelleft = False ,\n",
    "                   labelbottom = False, bottom = False)\n",
    "    fig.colorbar(im, ax=ax, label=clabels[name], fraction=0.1, orientation=\"horizontal\", location=\"bottom\") \n",
    "    \n",
    "# fig, axs = plt.subplots(math.floor(n/cols), cols, figsize=(12,9))\n",
    "for ax, name in zip(axs[2], ref_data.keys()):\n",
    "    vr = cranges_pd.setdefault(name, [None, None])\n",
    "    im = ax.imshow(perc_diff[name], interpolation='nearest', cmap=plt.get_cmap('RdBu_r',11),\n",
    "                   extent=[X.min(), X.max(), Y.min(), Y.max()],\n",
    "                   vmin=vr[0], vmax=vr[1],\n",
    "                   aspect='equal', origin='lower')\n",
    "    ax.tick_params(left = False, right = False , labelleft = False ,\n",
    "                   labelbottom = False, bottom = False)\n",
    "    fig.colorbar(im, ax=ax, orientation=\"horizontal\", location=\"bottom\") \n",
    "\n",
    "plt.savefig(hp[\"save_path\"]+\"/2Dsolutions\")"
   ]
  },
  {
   "cell_type": "code",
   "execution_count": 2,
   "id": "1a347f1f-eca8-4875-98a7-4c407da95485",
   "metadata": {},
   "outputs": [
    {
     "name": "stdout",
     "output_type": "stream",
     "text": [
      "dict_keys(['u', 'v', 's', 'H', 'C', 'B'])\n"
     ]
    }
   ],
   "source": [
    "print(ref_data.keys())"
   ]
  }
 ],
 "metadata": {
  "kernelspec": {
   "display_name": "Python [conda env:.conda-PINNICLEenv]",
   "language": "python",
   "name": "conda-env-.conda-PINNICLEenv-py"
  },
  "language_info": {
   "codemirror_mode": {
    "name": "ipython",
    "version": 3
   },
   "file_extension": ".py",
   "mimetype": "text/x-python",
   "name": "python",
   "nbconvert_exporter": "python",
   "pygments_lexer": "ipython3",
   "version": "3.10.15"
  }
 },
 "nbformat": 4,
 "nbformat_minor": 5
}
